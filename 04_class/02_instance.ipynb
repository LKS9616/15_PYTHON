{
 "cells": [
  {
   "cell_type": "markdown",
   "metadata": {},
   "source": [
    "# 02. 인스턴스(Instance)\n",
    "---\n",
    "## 02-01. 인스턴스 개요\n",
    "\n",
    "### 02-01-01. 인스턴스란?\n",
    "* 클래스로 객체를 생성하면 매번 다른 주소를 가진 인스턴스가 할당된다.\n",
    "* 인스턴스는 각각 독립적인 공간이 되며, 필드가 있을 경우 다른 상태값을 가진다."
   ]
  },
  {
   "cell_type": "markdown",
   "metadata": {},
   "source": []
  },
  {
   "cell_type": "code",
   "execution_count": 4,
   "metadata": {},
   "outputs": [
    {
     "name": "stdout",
     "output_type": "stream",
     "text": [
      "Person(name=곰, age=20)\n"
     ]
    }
   ],
   "source": [
    "class Person:\n",
    "    def __init__(self, name, age):\n",
    "        self.name = name\n",
    "        self.age = age\n",
    "        \n",
    "    def __str__(self):\n",
    "        return f\"Person(name={self.name}, age={self.age})\"\n",
    "\n",
    "bear = Person('곰', 20)\n",
    "\n",
    "print(bear)\n"
   ]
  },
  {
   "cell_type": "markdown",
   "metadata": {},
   "source": [
    "## 02-02. 인스턴스 속성\n",
    "\n",
    "### 02-02-01. 클래스 속성과 인스턴스 속성\n",
    "\n",
    "* 인스턴스 속성\n",
    "    * 인스턴스 별 데이터를 위한 것\n",
    "* 클래스 속성\n",
    "    * 해당 클래스의 모든 인스턴스에서 공유되는 속성과 메서드를 위해 사용\n",
    "    * 공유되는 속성으로 변경이 발생하면, 전체 객체에서 변경될 수 있다."
   ]
  },
  {
   "cell_type": "code",
   "execution_count": 5,
   "metadata": {},
   "outputs": [
    {
     "name": "stdout",
     "output_type": "stream",
     "text": [
      "[전사] 산골짜기다람쥐님의 보유 스킬 ['파워 스트라이크!', '매직 클로!']\n"
     ]
    }
   ],
   "source": [
    "class Character:\n",
    "    skills = []\n",
    "    \n",
    "    def __init__(self, nickname, type):\n",
    "        self.nickname = nickname\n",
    "        self.type = type\n",
    "    \n",
    "    def add_skill(self, skill):\n",
    "        self.skills.append(skill)\n",
    "        \n",
    "    def show_skill(self):\n",
    "        return f\"[{self.type}] {self.nickname}님의 보유 스킬 {str(self.skills)}\"\n",
    "    \n",
    "my_character = Character('산골짜기다람쥐', '전사')\n",
    "your_character = Character('흑염룡의고릴라', '법사')\n",
    "\n",
    "my_character.add_skill('파워 스트라이크!')\n",
    "your_character.add_skill('매직 클로!')\n",
    "\n",
    "print(my_character.show_skill())\n",
    "        \n",
    "    "
   ]
  },
  {
   "cell_type": "markdown",
   "metadata": {},
   "source": [
    "* 객체마다 다른 데이터를 관리해야 하는 경우에는 인스턴스 속성을 사용해야 한다."
   ]
  },
  {
   "cell_type": "code",
   "execution_count": 6,
   "metadata": {},
   "outputs": [
    {
     "name": "stdout",
     "output_type": "stream",
     "text": [
      "[전사] 산골짜기다람쥐님의 보유 스킬 ['파워 스트라이크!']\n"
     ]
    }
   ],
   "source": [
    "class Character:\n",
    "    \n",
    "    nickname = '졸린공'\n",
    "    \n",
    "    def __init__(self, nickname, type):\n",
    "        self.nickname = nickname\n",
    "        self.type = type\n",
    "        self.skills = []\n",
    "    \n",
    "    def add_skill(self, skill):\n",
    "        self.skills.append(skill)\n",
    "        \n",
    "    def show_skill(self):\n",
    "        return f\"[{self.type}] {self.nickname}님의 보유 스킬 {str(self.skills)}\"\n",
    "    \n",
    "my_character = Character('산골짜기다람쥐', '전사')\n",
    "your_character = Character('흑염룡의고릴라', '법사')\n",
    "\n",
    "my_character.add_skill('파워 스트라이크!')\n",
    "your_character.add_skill('매직 클로!')\n",
    "\n",
    "print(my_character.show_skill())\n",
    "print(your_character.show_skill())\n",
    "\n",
    "# 인스턴스 "
   ]
  },
  {
   "cell_type": "markdown",
   "metadata": {},
   "source": []
  },
  {
   "cell_type": "markdown",
   "metadata": {},
   "source": []
  },
  {
   "cell_type": "markdown",
   "metadata": {},
   "source": []
  },
  {
   "cell_type": "markdown",
   "metadata": {},
   "source": []
  },
  {
   "cell_type": "markdown",
   "metadata": {},
   "source": []
  },
  {
   "cell_type": "markdown",
   "metadata": {},
   "source": []
  },
  {
   "cell_type": "markdown",
   "metadata": {},
   "source": []
  }
 ],
 "metadata": {
  "kernelspec": {
   "display_name": "pylecture_env",
   "language": "python",
   "name": "python3"
  },
  "language_info": {
   "codemirror_mode": {
    "name": "ipython",
    "version": 3
   },
   "file_extension": ".py",
   "mimetype": "text/x-python",
   "name": "python",
   "nbconvert_exporter": "python",
   "pygments_lexer": "ipython3",
   "version": "3.12.7"
  }
 },
 "nbformat": 4,
 "nbformat_minor": 2
}
