{
 "cells": [
  {
   "cell_type": "markdown",
   "metadata": {},
   "source": [
    "### 07-01. 딕셔너리 개요\n",
    "#### 07-01-01. 딕셔너리 표현식"
   ]
  },
  {
   "cell_type": "code",
   "execution_count": 2,
   "metadata": {},
   "outputs": [
    {
     "name": "stdout",
     "output_type": "stream",
     "text": [
      "<class 'dict'>\n",
      "bear\n",
      "ohgiraffers\n"
     ]
    }
   ],
   "source": [
    "teacher = { 'name':'bear', 'team': 'ohgiraffers'}\n",
    "\n",
    "print(type(teacher))\n",
    "\n",
    "print(teacher['name'])\n",
    "print(teacher['team'])"
   ]
  },
  {
   "cell_type": "markdown",
   "metadata": {},
   "source": [
    "### 07-01-02. 딕셔너리의 특징\n",
    "1. 키(key)와 값(value)의 쌍으로 이루어진 데이터\n",
    "* 사전에서 단어를 찾아 뜻을 확인하는 것처럼, Dictionaries에서 키를 사용하여 값을 찾고 활용 가능하다."
   ]
  },
  {
   "cell_type": "code",
   "execution_count": 3,
   "metadata": {},
   "outputs": [
    {
     "name": "stdout",
     "output_type": "stream",
     "text": [
      "{'tiger': 'langChain', 'squirrel': 'JPA', 'bear': 'python', 'gorilla': 'spring'}\n",
      "python\n"
     ]
    }
   ],
   "source": [
    "ohgiraffers = {\n",
    "    'tiger' : 'langChain',\n",
    "    'squirrel' : 'JPA',\n",
    "    'bear' : 'python',\n",
    "    'gorilla' : 'spring',\n",
    "}\n",
    "\n",
    "print(ohgiraffers)\n",
    "\n",
    "print(ohgiraffers['bear'])"
   ]
  },
  {
   "cell_type": "markdown",
   "metadata": {},
   "source": [
    "키는 고유해야 하며, 불변한 데이터 타입이어야한다.\n",
    "키는 유일하게 존재해야 하므로, 동일한 키로 여러 값을 저장 불가능하다.\n",
    "중복키로 값을 저장하면, 기존값을 덮어쓴다.\n",
    "=> 데이터 검색 및 관리의 효율성을 높여줌\n",
    "key로 tuple(불변하므로) 사용할 수 있다."
   ]
  },
  {
   "cell_type": "markdown",
   "metadata": {},
   "source": [
    "valid_key_dic = {(\"name\", \"team\") : 'bear.ohgiraffers'}\n",
    "\n",
    "print(valid_key_dic[('name','team')])"
   ]
  },
  {
   "cell_type": "code",
   "execution_count": 5,
   "metadata": {},
   "outputs": [
    {
     "name": "stdout",
     "output_type": "stream",
     "text": [
      "Hello world!\n"
     ]
    }
   ],
   "source": [
    "print('Hello world!')"
   ]
  },
  {
   "cell_type": "markdown",
   "metadata": {},
   "source": []
  },
  {
   "cell_type": "markdown",
   "metadata": {},
   "source": []
  }
 ],
 "metadata": {
  "kernelspec": {
   "display_name": "pylecture_env",
   "language": "python",
   "name": "python3"
  },
  "language_info": {
   "codemirror_mode": {
    "name": "ipython",
    "version": 3
   },
   "file_extension": ".py",
   "mimetype": "text/x-python",
   "name": "python",
   "nbconvert_exporter": "python",
   "pygments_lexer": "ipython3",
   "version": "3.12.7"
  }
 },
 "nbformat": 4,
 "nbformat_minor": 2
}
