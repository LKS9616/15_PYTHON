{
 "cells": [
  {
   "cell_type": "markdown",
   "metadata": {},
   "source": [
    "02. 기본 자료형"
   ]
  },
  {
   "cell_type": "markdown",
   "metadata": {
    "vscode": {
     "languageId": "plaintext"
    }
   },
   "source": [
    "## 02-01. 숫자형(Numeric)"
   ]
  },
  {
   "cell_type": "markdown",
   "metadata": {},
   "source": [
    "### 02-01-01. 숫자 자료형의 종류\n",
    "\n",
    " 파이썬에서는 정수, 실수, 복소수 등 숫자를 표현하는 자료형을 모두 숫자 자료형이라고 표현한다."
   ]
  },
  {
   "cell_type": "code",
   "execution_count": null,
   "metadata": {},
   "outputs": [],
   "source": [
    "# int\n",
    "num1 = 1\n",
    "num2 = -1\n",
    "\n",
    "print(type(num1))\n",
    "print(type(num2))\n",
    "\n",
    "# float\n",
    "\n"
   ]
  },
  {
   "cell_type": "markdown",
   "metadata": {},
   "source": [
    "### 02-01-02. 숫자 자료형의 연산\n",
    "\n",
    "* 숫자 자료형간에 기본적인 사칙연산과 파이썬에서만 가능한 특수연산을 할 수 있다."
   ]
  },
  {
   "cell_type": "code",
   "execution_count": 2,
   "metadata": {},
   "outputs": [
    {
     "name": "stdout",
     "output_type": "stream",
     "text": [
      "13\n",
      "7\n",
      "30\n",
      "3.3333333333333335\n"
     ]
    }
   ],
   "source": [
    "# 사칙연산\n",
    "num1 = 10\n",
    "num2 = 3\n",
    "\n",
    "print(num1 + num2)\n",
    "print(num1 - num2)\n",
    "print(num1 * num2)\n",
    "print(num1 / num2)\n"
   ]
  },
  {
   "cell_type": "code",
   "execution_count": 1,
   "metadata": {},
   "outputs": [
    {
     "name": "stdout",
     "output_type": "stream",
     "text": [
      "10.1\n",
      "9.9\n",
      "1.0\n",
      "100.0\n"
     ]
    }
   ],
   "source": [
    "# 서로 다른 자료형의 피연산자를 가질 경우 정수형을 실수형으로 자동 변환\n",
    "num3 = 10\n",
    "num4 = 0.1\n",
    "print(num3 + num4)\n",
    "print(num3 - num4)\n",
    "print(num3 * num4)\n",
    "print(num3 / num4)\n"
   ]
  },
  {
   "cell_type": "code",
   "execution_count": 3,
   "metadata": {},
   "outputs": [
    {
     "name": "stdout",
     "output_type": "stream",
     "text": [
      "1.5714285714285714\n",
      "4\n",
      "1\n"
     ]
    }
   ],
   "source": [
    "# 나눗셈 나머지 연산과 몫 연산\n",
    "\n",
    "num1 = 11\n",
    "num2 = 7\n",
    "\n",
    "# 나눗셈 연산\n",
    "print(num1 / num2)\n",
    "\n",
    "# 나머지 연산\n",
    "print(num1 % num2)\n",
    "\n",
    "# 몫만 구하는 연산\n",
    "print(num1 // num2)"
   ]
  },
  {
   "cell_type": "code",
   "execution_count": 4,
   "metadata": {},
   "outputs": [
    {
     "name": "stdout",
     "output_type": "stream",
     "text": [
      "81\n"
     ]
    }
   ],
   "source": [
    "# 제곱연산\n",
    "\n",
    "base = 9\n",
    "exponent = 2\n",
    "\n",
    "print(base ** exponent)"
   ]
  },
  {
   "cell_type": "code",
   "execution_count": 5,
   "metadata": {},
   "outputs": [
    {
     "data": {
      "text/plain": [
       "4"
      ]
     },
     "execution_count": 5,
     "metadata": {},
     "output_type": "execute_result"
    }
   ],
   "source": [
    "# 값과 연산자 입력만으로 연산 수행 가능\n",
    "\n",
    "2 + 2"
   ]
  },
  {
   "cell_type": "markdown",
   "metadata": {},
   "source": [
    "---\n",
    "## 02-02. 논리형 (Boolean)\n",
    "\n",
    "### 02-02-01. 논리 자료형\n",
    "* true 또는 false 값을 가지는 자료형\n",
    "* 논리 자료형은 문자열이 아니므로 따옴표(\".\")로 감싸서는 안되며, <br>첫 글자를 반드시 대문자로 해야 한다. \n",
    "* 또한 논리 자료형은 자료형 자체로 사용하기도 하지만 <br>비교 연산, 논리 연산의 결과로 논리 자료형이 반환된다."
   ]
  },
  {
   "cell_type": "code",
   "execution_count": 6,
   "metadata": {},
   "outputs": [
    {
     "name": "stdout",
     "output_type": "stream",
     "text": [
      "<class 'bool'>\n",
      "<class 'bool'>\n"
     ]
    }
   ],
   "source": [
    "boo1 = True\n",
    "boo2 = False\n",
    "\n",
    "print(type(boo1))\n",
    "print(type(boo2))"
   ]
  },
  {
   "cell_type": "markdown",
   "metadata": {},
   "source": [
    "### 02-02-02. 논리 자료형의 연산\n",
    "* 비교 연산\n",
    "* 비교 연산: ==, !=, >, <, >=, <=\n",
    "== : 좌항과 우항의 값이 동일한지 비교하여, 같으면 True, 같지 않으면 False를 반환한다.\n",
    "!= 좌항과 우항의 값이 같지 않은지 비교하여 "
   ]
  },
  {
   "cell_type": "code",
   "execution_count": 8,
   "metadata": {},
   "outputs": [
    {
     "name": "stdout",
     "output_type": "stream",
     "text": [
      "True\n",
      "False\n",
      "True\n",
      "True\n"
     ]
    }
   ],
   "source": [
    "# 논리연산\n",
    "\n",
    "# and\n",
    "print(1 != 3 and 100 > 99 and True)\n",
    "print(1 != 3 and 100 > 99 and 100 < 99)\n",
    "\n",
    "# or\n",
    "print(1 == 3 or 100 < 99 or True)\n",
    "\n",
    "# not\n",
    "print(not 'ohgiraffers' == 'Ohgiraffers')"
   ]
  },
  {
   "cell_type": "markdown",
   "metadata": {},
   "source": [
    "\n",
    "## 02-03. 문자형(String)\n",
    "### 02-03-01. 문자형 선언\n",
    "* 쌍따옴표(\"\") 또는 홀따옴표('')를 사용하여 문자형 리터럴을 선언할 수 있다."
   ]
  },
  {
   "cell_type": "markdown",
   "metadata": {},
   "source": [
    "my_name = 'taegeun'\n",
    "my_name "
   ]
  },
  {
   "cell_type": "code",
   "execution_count": 10,
   "metadata": {},
   "outputs": [
    {
     "name": "stdout",
     "output_type": "stream",
     "text": [
      "\n",
      "세상에서 제일 긴 게 뭘까요?\n",
      "기차? 기린의 목? 코끼리의 코?\n",
      "전부 아닙니다.\n",
      "여러분의 무한한 가능성입니다~\n"
     ]
    }
   ],
   "source": [
    "print(\"\"\"\n",
    "세상에서 제일 긴 게 뭘까요?\n",
    "기차? 기린의 목? 코끼리의 코?\n",
    "전부 아닙니다.\n",
    "여러분의 무한한 가능성입니다~\"\"\")"
   ]
  },
  {
   "cell_type": "markdown",
   "metadata": {},
   "source": [
    "### 02-03-02. 문자형 연산"
   ]
  },
  {
   "cell_type": "code",
   "execution_count": 11,
   "metadata": {},
   "outputs": [
    {
     "name": "stdout",
     "output_type": "stream",
     "text": [
      "아버지가방에 들어가신다. \n",
      "아버지가 방에 들어가신다. \n"
     ]
    }
   ],
   "source": [
    "# 문자열 이어붙이기\n",
    "\n",
    "str1 = \"아버지가\"\n",
    "str2 = \"방에 들어가신다. \"\n",
    "\n",
    "print(str1 + str2)\n",
    "\n",
    "print(str1 + ' ' + str2)"
   ]
  },
  {
   "cell_type": "code",
   "execution_count": 12,
   "metadata": {},
   "outputs": [
    {
     "ename": "TypeError",
     "evalue": "unsupported operand type(s) for +: 'int' and 'str'",
     "output_type": "error",
     "traceback": [
      "\u001b[1;31m---------------------------------------------------------------------------\u001b[0m",
      "\u001b[1;31mTypeError\u001b[0m                                 Traceback (most recent call last)",
      "Cell \u001b[1;32mIn[12], line 2\u001b[0m\n\u001b[0;32m      1\u001b[0m \u001b[38;5;66;03m# 다른 자료형과 형변환이 불가능하다.\u001b[39;00m\n\u001b[1;32m----> 2\u001b[0m \u001b[38;5;28mprint\u001b[39m(\u001b[38;5;241;43m900\u001b[39;49m\u001b[43m \u001b[49m\u001b[38;5;241;43m+\u001b[39;49m\u001b[43m \u001b[49m\u001b[38;5;124;43m\"\u001b[39;49m\u001b[38;5;124;43m살\u001b[39;49m\u001b[38;5;124;43m\"\u001b[39;49m \u001b[38;5;241m+\u001b[39m \u001b[38;5;124m\"\u001b[39m\u001b[38;5;124m입니다.\u001b[39m\u001b[38;5;124m\"\u001b[39m)\n",
      "\u001b[1;31mTypeError\u001b[0m: unsupported operand type(s) for +: 'int' and 'str'"
     ]
    }
   ],
   "source": [
    "# 다른 자료형과 형변환이 불가능하다.\n",
    "print(900 + \"살\" + \"입니다.\")"
   ]
  },
  {
   "cell_type": "code",
   "execution_count": 13,
   "metadata": {},
   "outputs": [
    {
     "name": "stdout",
     "output_type": "stream",
     "text": [
      "900살입니다.\n"
     ]
    }
   ],
   "source": [
    "# 다른 자료형과 연산 불가 ( 자동형변환이 불가)\n",
    "print(str(900) + \"살\" + \"입니다.\")\n"
   ]
  },
  {
   "cell_type": "code",
   "execution_count": 14,
   "metadata": {},
   "outputs": [
    {
     "name": "stdout",
     "output_type": "stream",
     "text": [
      "나는python을 잘할 수 있다! \n",
      "나는python을 잘할 수 있다! \n",
      "나는python을 잘할 수 있다! \n",
      "\n"
     ]
    }
   ],
   "source": [
    "# 문자열 반복하기 : *\n",
    "\n",
    "subject = 'python'\n",
    "print((\"나는\" + subject + \"을 잘할 수 있다! \\n\")*3)"
   ]
  },
  {
   "cell_type": "markdown",
   "metadata": {},
   "source": [
    "### 02-03-03. 문자형의 메서드"
   ]
  },
  {
   "cell_type": "code",
   "execution_count": 15,
   "metadata": {},
   "outputs": [
    {
     "name": "stdout",
     "output_type": "stream",
     "text": [
      "2024-12-16\n"
     ]
    }
   ],
   "source": [
    "# replace()\n",
    "# 문자를 찾아서 바꿀 때 사용한다.\n",
    "enroll_date = '2024/12/16'\n",
    "rep_enroll_date = enroll_date.replace(\"/\", \"-\")\n",
    "\n",
    "print(rep_enroll_date)"
   ]
  },
  {
   "cell_type": "code",
   "execution_count": 18,
   "metadata": {},
   "outputs": [
    {
     "name": "stdout",
     "output_type": "stream",
     "text": [
      "oh  giraffers\n",
      "h  giraffers\n",
      "ohgiraffer\n"
     ]
    }
   ],
   "source": [
    "# strip()\n",
    "# 문자열을 제거할 때 사용한다.\n",
    "# 기본적으로는 공백을 지워준다.\n",
    "\n",
    "origin = 'ohgiraffers'\n",
    "with_white_space = '  oh  giraffers  '\n",
    "\n",
    "# 인자 생략 => 공백 제거\n",
    "print(with_white_space.strip())\n",
    "\n",
    "# '  o'까지 제거\n",
    "print(with_white_space.strip('  o'))\n",
    "\n",
    "# 1strip() - 왼쪽만 제거\n",
    "# print(origin.1strip('os'))\n",
    "\n",
    "# rstript() - 오른쪽만 제거\n",
    "print(origin.rstrip('os'))"
   ]
  },
  {
   "cell_type": "code",
   "execution_count": 19,
   "metadata": {},
   "outputs": [
    {
     "name": "stdout",
     "output_type": "stream",
     "text": [
      "HELLO WORLD!\n",
      "hello world!\n",
      "Hello world!\n",
      "Hello World!\n",
      "Hello World!\n"
     ]
    }
   ],
   "source": [
    "# 대소문자 관련 메서드\n",
    "\n",
    "origin_str = 'hELLO wORLD!'\n",
    "\n",
    "print(origin_str.upper())\n",
    "print(origin_str.lower())\n",
    "print(origin_str.capitalize())\n",
    "print(origin_str.swapcase())\n",
    "print(origin_str.title())"
   ]
  },
  {
   "cell_type": "markdown",
   "metadata": {},
   "source": [
    "### 02-03-04. 문자형 포맷팅\n",
    "\n",
    "1. % 포맷팅: 변수 포맷을 사용해 문자열에 변수 값을 삽입한다. (오래된 방식)\n",
    "- 변수 포맷 종류\n",
    "   - %s: 문자열\n",
    "   - %c: 문자\n",
    "   - %d: 정수\n",
    "   - %f: 실수"
   ]
  },
  {
   "cell_type": "markdown",
   "metadata": {},
   "source": [
    "x = 10\n",
    "print('x is %d')"
   ]
  },
  {
   "cell_type": "markdown",
   "metadata": {},
   "source": [
    "2. format(): 타입 명시 없이 함수를 이용해 문자열에 변수 값을 삽입한다."
   ]
  },
  {
   "cell_type": "code",
   "execution_count": 20,
   "metadata": {},
   "outputs": [
    {
     "name": "stdout",
     "output_type": "stream",
     "text": [
      "x is 10\n",
      "x is 10 y is code\n"
     ]
    }
   ],
   "source": [
    "x, y = 10, 'code'\n",
    "\n",
    "print(\"x is {0}\".format(x))\n",
    "print('x is {0} y is {1}'.format(x,y))"
   ]
  },
  {
   "cell_type": "code",
   "execution_count": 21,
   "metadata": {},
   "outputs": [
    {
     "name": "stdout",
     "output_type": "stream",
     "text": [
      "안녕하세요 곰 강사입니다!\n"
     ]
    }
   ],
   "source": [
    "teacher_name = '곰'\n",
    "\n",
    "print(f\"안녕하세요 {teacher_name} 강사입니다!\")"
   ]
  },
  {
   "cell_type": "markdown",
   "metadata": {},
   "source": [
    "---\n",
    "### 02-04. 주석\n",
    "#### 02-04-01. 주석의 종류"
   ]
  },
  {
   "cell_type": "code",
   "execution_count": null,
   "metadata": {},
   "outputs": [],
   "source": [
    "# 한 줄 주석\n",
    "\n",
    "# 이렇게 그냥 작성\n",
    "# 주석은 해석하지 않기 때문에 에러가 발생하지 않는다."
   ]
  },
  {
   "cell_type": "code",
   "execution_count": 22,
   "metadata": {},
   "outputs": [
    {
     "name": "stdout",
     "output_type": "stream",
     "text": [
      "여기만 출력된다.\n"
     ]
    }
   ],
   "source": [
    "# 여러 줄 주석\n",
    "'''\n",
    "삼중 따옴표를 사용하면\n",
    "구간에 걸친 주석이 적용된다.\n",
    "\n",
    "print('출력되지 않는다')\n",
    "'''\n",
    "\"\"\"\"\n",
    "삼중 따옴표를 사용하면\n",
    "구간에 걸친 주석이 적용된다.\n",
    "\n",
    "print('출력되지 않는다')\n",
    "\"\"\"\n",
    "\n",
    "print('여기만 출력된다.')"
   ]
  },
  {
   "cell_type": "markdown",
   "metadata": {},
   "source": [
    "### 02-05. 형변환\n",
    "#### 02-05-01. 형변환이란?\n",
    "* 서로 다른 자료형 간의 연산을 위해 다른 자료형으로 타입을 변환하는 것"
   ]
  },
  {
   "cell_type": "code",
   "execution_count": 23,
   "metadata": {},
   "outputs": [
    {
     "name": "stdout",
     "output_type": "stream",
     "text": [
      "7\n"
     ]
    },
    {
     "ename": "ValueError",
     "evalue": "invalid literal for int() with base 10: '3.5'",
     "output_type": "error",
     "traceback": [
      "\u001b[1;31m---------------------------------------------------------------------------\u001b[0m",
      "\u001b[1;31mValueError\u001b[0m                                Traceback (most recent call last)",
      "Cell \u001b[1;32mIn[23], line 5\u001b[0m\n\u001b[0;32m      1\u001b[0m \u001b[38;5;66;03m# 명시적 형변환\u001b[39;00m\n\u001b[0;32m      2\u001b[0m \u001b[38;5;66;03m# str, float => int(단, 형식에 맞는 문자열만 정수로 변환 가능)\u001b[39;00m\n\u001b[0;32m      4\u001b[0m \u001b[38;5;28mprint\u001b[39m(\u001b[38;5;28mint\u001b[39m(\u001b[38;5;124m'\u001b[39m\u001b[38;5;124m3\u001b[39m\u001b[38;5;124m'\u001b[39m) \u001b[38;5;241m+\u001b[39m \u001b[38;5;241m4\u001b[39m)\n\u001b[1;32m----> 5\u001b[0m \u001b[38;5;28mprint\u001b[39m(\u001b[38;5;28;43mint\u001b[39;49m\u001b[43m(\u001b[49m\u001b[38;5;124;43m'\u001b[39;49m\u001b[38;5;124;43m3.5\u001b[39;49m\u001b[38;5;124;43m'\u001b[39;49m\u001b[43m)\u001b[49m \u001b[38;5;241m+\u001b[39m \u001b[38;5;241m2\u001b[39m) \u001b[38;5;66;03m# 문자열의 형태가 정수가 아니라 실수이므로 형변환 불가\u001b[39;00m\n",
      "\u001b[1;31mValueError\u001b[0m: invalid literal for int() with base 10: '3.5'"
     ]
    }
   ],
   "source": [
    "# 명시적 형변환\n",
    "# str, float => int(단, 형식에 맞는 문자열만 정수로 변환 가능)\n",
    "\n",
    "print(int('3') + 4)\n",
    "print(int('3.5') + 2) # 문자열의 형태가 정수가 아니라 실수이므로 형변환 불가"
   ]
  },
  {
   "cell_type": "code",
   "execution_count": 24,
   "metadata": {},
   "outputs": [
    {
     "name": "stdout",
     "output_type": "stream",
     "text": [
      "3.0\n"
     ]
    }
   ],
   "source": [
    "# str, int => float (단, 형식에 맞는 문자열만 실수로 변환 가능)\n",
    "print(float('3'))"
   ]
  },
  {
   "cell_type": "code",
   "execution_count": 25,
   "metadata": {},
   "outputs": [
    {
     "name": "stdout",
     "output_type": "stream",
     "text": [
      "1\n",
      "1.0\n",
      "{1, 2, 3}\n"
     ]
    }
   ],
   "source": [
    "# int, float, list, tuple, dict, set => str(문자열로는 전부 다 변환 가능하다.)\n",
    "print(str(1))\n",
    "print(str(1.0))\n",
    "print({1,2,3})"
   ]
  }
 ],
 "metadata": {
  "kernelspec": {
   "display_name": "pylecture_env",
   "language": "python",
   "name": "python3"
  },
  "language_info": {
   "codemirror_mode": {
    "name": "ipython",
    "version": 3
   },
   "file_extension": ".py",
   "mimetype": "text/x-python",
   "name": "python",
   "nbconvert_exporter": "python",
   "pygments_lexer": "ipython3",
   "version": "3.12.7"
  }
 },
 "nbformat": 4,
 "nbformat_minor": 2
}
