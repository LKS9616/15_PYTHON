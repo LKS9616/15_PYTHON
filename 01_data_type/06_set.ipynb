{
 "cells": [
  {
   "cell_type": "markdown",
   "metadata": {},
   "source": [
    "# 06. Set\n",
    "---\n",
    "## 06-01. Set 개요\n",
    "### 06-01-01. Set이란?\n",
    "* 중복된 요소를 허용하지 않으며 순서 없이 요소를 저장하는 자료형\n",
    "* 중복제거가 필요할 때 유용하게 사용한다.\n",
    "* 중괄호{}를 사용해서 집합을 생성한다."
   ]
  },
  {
   "cell_type": "code",
   "execution_count": 5,
   "metadata": {},
   "outputs": [],
   "source": [
    "safari_set = {\"bear\", \"koala\", \"Gorilla\", \"Squirrel\"}\n",
    "\n",
    "# 여러가지 타입 집합 가능\n",
    "mixed_set = {1, \"bear\", (1,2,3)}"
   ]
  },
  {
   "cell_type": "markdown",
   "metadata": {},
   "source": [
    "* set()을 사용해 형변환도 가능하다."
   ]
  },
  {
   "cell_type": "code",
   "execution_count": 11,
   "metadata": {},
   "outputs": [
    {
     "name": "stdout",
     "output_type": "stream",
     "text": [
      "<class 'set'>\n"
     ]
    }
   ],
   "source": [
    "another_safari_set = set([\"Monkey\", \"Tiger\", \"Wolf\"])\n",
    "\n",
    "print(type(another_safari_set))"
   ]
  },
  {
   "cell_type": "markdown",
   "metadata": {},
   "source": [
    "#### 06-01-03. Set의 특징\n",
    "1. 순서가 없는 자료형이며, 순서가 없으므로 인덱스를 사용한 접근이 불가"
   ]
  },
  {
   "cell_type": "code",
   "execution_count": 12,
   "metadata": {},
   "outputs": [
    {
     "name": "stdout",
     "output_type": "stream",
     "text": [
      "{'bear', 'gorilla', 'squirrel', 'pig'}\n"
     ]
    }
   ],
   "source": [
    "ohgiraffers = {'pig', 'squirrel', 'bear', 'gorilla'}\n",
    "\n",
    "print(ohgiraffers)\n",
    "# print(ohgiraffers[0])"
   ]
  },
  {
   "cell_type": "markdown",
   "metadata": {},
   "source": [
    "2. 중복을 허용하지 않으므로 동일한 값은 하나만 저장한다."
   ]
  },
  {
   "cell_type": "code",
   "execution_count": 13,
   "metadata": {},
   "outputs": [
    {
     "name": "stdout",
     "output_type": "stream",
     "text": [
      "{'bear', 'gorilla', 'squirrel', 'pig'}\n"
     ]
    }
   ],
   "source": [
    "ohgiraffers = {'pig', 'squirrel', 'bear', 'gorilla', 'pig'}\n",
    "\n",
    "print(ohgiraffers)"
   ]
  },
  {
   "cell_type": "markdown",
   "metadata": {},
   "source": [
    "3. 가변성을 가진 자료형으로 데이터(요소)를 추가하거나 제거할 수 있다.\n",
    "* 순서가 없는 자료형이기 때문에 특정 요소에 접근할 수 없어, 직접 변경이 불가능"
   ]
  },
  {
   "cell_type": "code",
   "execution_count": 1,
   "metadata": {},
   "outputs": [
    {
     "name": "stdout",
     "output_type": "stream",
     "text": [
      "{'squirrel', 'bear', 'gorilla'}\n",
      "{'bear', 'squirrel', 'mouse', 'gorilla'}\n"
     ]
    }
   ],
   "source": [
    "ohgiraffers = {'pig', 'squirrel', 'bear', 'gorilla', 'pig'}\n",
    "\n",
    "# 삭제\n",
    "ohgiraffers.remove('pig')\n",
    "print(ohgiraffers)\n",
    "\n",
    "# 추가\n",
    "ohgiraffers.add('mouse')\n",
    "print(ohgiraffers)"
   ]
  },
  {
   "cell_type": "markdown",
   "metadata": {},
   "source": [
    "4. in 키워드를 통해 포함 여부를 반환받을 수 있다."
   ]
  },
  {
   "cell_type": "code",
   "execution_count": 3,
   "metadata": {},
   "outputs": [
    {
     "name": "stdout",
     "output_type": "stream",
     "text": [
      "True\n"
     ]
    }
   ],
   "source": [
    "ohgiraffers = {'pig', 'squirrel', 'bear', 'gorilla', 'pig'}\n",
    "\n",
    "print('bear' in ohgiraffers)"
   ]
  },
  {
   "cell_type": "markdown",
   "metadata": {},
   "source": [
    "---\n",
    "## 06-02. set의 메소드\n",
    "### 06-02-01. 요소를 추가하는 메소드\n",
    "\n",
    "1. add()\n",
    "\n",
    "* set에 새로운 단일 요소 추가"
   ]
  },
  {
   "cell_type": "code",
   "execution_count": 5,
   "metadata": {},
   "outputs": [
    {
     "name": "stdout",
     "output_type": "stream",
     "text": [
      "{'bear', 'pig', 'squirrel', 'gorilla', 'elephant'}\n"
     ]
    }
   ],
   "source": [
    "ohgiraffers = {'pig', 'squirrel', 'bear', 'gorilla', 'pig'}\n",
    "ohgiraffers.add('elephant')\n",
    "\n",
    "\n",
    "print(ohgiraffers)"
   ]
  },
  {
   "cell_type": "markdown",
   "metadata": {},
   "source": [
    "2. update()\n",
    "* set에 여러 요소 추가 가능\n",
    "* 리스트, 튜플, 문자열 등에서 요소를 가져와 추가 가능"
   ]
  },
  {
   "cell_type": "code",
   "execution_count": 7,
   "metadata": {},
   "outputs": [
    {
     "name": "stdout",
     "output_type": "stream",
     "text": [
      "{'bear', 'wolf', 'pig', 'squirrel', 'gorilla', 'monkey'}\n"
     ]
    }
   ],
   "source": [
    "ohgiraffers = {'pig', 'squirrel', 'bear', 'gorilla', 'pig'}\n",
    "ohgiraffers.update(['monkey', 'wolf'])\n",
    "\n",
    "print(ohgiraffers)"
   ]
  },
  {
   "cell_type": "markdown",
   "metadata": {},
   "source": [
    "### 06-02-02. 요소를 제거하는 메소드\n",
    "\n",
    "1. remove()\n",
    "* set에서 특정 요소를 제거하는 데 사용\n",
    "* 존재하지 않는 요소를 지우려 하면 에러"
   ]
  },
  {
   "cell_type": "code",
   "execution_count": 8,
   "metadata": {},
   "outputs": [
    {
     "ename": "KeyError",
     "evalue": "'elephant'",
     "output_type": "error",
     "traceback": [
      "\u001b[1;31m---------------------------------------------------------------------------\u001b[0m",
      "\u001b[1;31mKeyError\u001b[0m                                  Traceback (most recent call last)",
      "Cell \u001b[1;32mIn[8], line 1\u001b[0m\n\u001b[1;32m----> 1\u001b[0m \u001b[43mohgiraffers\u001b[49m\u001b[38;5;241;43m.\u001b[39;49m\u001b[43mremove\u001b[49m\u001b[43m(\u001b[49m\u001b[38;5;124;43m'\u001b[39;49m\u001b[38;5;124;43melephant\u001b[39;49m\u001b[38;5;124;43m'\u001b[39;49m\u001b[43m)\u001b[49m\n\u001b[0;32m      2\u001b[0m \u001b[38;5;28mprint\u001b[39m(ohgiraffers)\n",
      "\u001b[1;31mKeyError\u001b[0m: 'elephant'"
     ]
    }
   ],
   "source": [
    "ohgiraffers.remove('elephant')\n",
    "print(ohgiraffers)"
   ]
  },
  {
   "cell_type": "markdown",
   "metadata": {},
   "source": []
  },
  {
   "cell_type": "markdown",
   "metadata": {},
   "source": []
  },
  {
   "cell_type": "markdown",
   "metadata": {},
   "source": [
    "3. pop()\n",
    "* 임의의 요소를 제거하고 그 값을 반환하는 메서드\n",
    "* (set은 순서가 없기 때문에 어떤 요소가 삭제될지는 모른다.)\n",
    "* 집합이 비었을 때 error가 발생한다."
   ]
  },
  {
   "cell_type": "code",
   "execution_count": 9,
   "metadata": {},
   "outputs": [
    {
     "name": "stdout",
     "output_type": "stream",
     "text": [
      "bear\n",
      "{'wolf', 'pig', 'squirrel', 'gorilla', 'monkey'}\n"
     ]
    }
   ],
   "source": [
    "temp = ohgiraffers.pop()\n",
    "print(temp)\n",
    "print(ohgiraffers)"
   ]
  },
  {
   "cell_type": "markdown",
   "metadata": {},
   "source": [
    "4. clear()\n",
    "* 모든 요소를 제거하고 빈 set로 만드는 메서드"
   ]
  },
  {
   "cell_type": "code",
   "execution_count": 10,
   "metadata": {},
   "outputs": [
    {
     "name": "stdout",
     "output_type": "stream",
     "text": [
      "set()\n"
     ]
    }
   ],
   "source": [
    "ohgiraffers.clear()\n",
    "\n",
    "print(ohgiraffers)"
   ]
  },
  {
   "cell_type": "markdown",
   "metadata": {},
   "source": [
    "---\n",
    "### 06-02-03. 집합 연산 메서드\n",
    "\n",
    "1. union()\n",
    "\n",
    "* 두 개 이상의 집합을 합쳐서 새로운 집합을 반환하는 메서드(합집합)\n",
    "* 중복된 요소를 제거, 모든 요소를 포함하는 새로운 집합을 만든다."
   ]
  },
  {
   "cell_type": "code",
   "execution_count": 18,
   "metadata": {},
   "outputs": [
    {
     "name": "stdout",
     "output_type": "stream",
     "text": [
      "{'bear', 'gorilla', 'pigbear', 'squirrel', 'tiger'}\n",
      "{'bear', 'gorilla', 'pigbear', 'squirrel', 'tiger'}\n"
     ]
    }
   ],
   "source": [
    "java_team = { 'squirrel', 'gorilla', 'tiger', 'bear'}\n",
    "python_team = {'pig' 'bear'}\n",
    "\n",
    "ohgiraffers = java_team.union(python_team)\n",
    "print(ohgiraffers)\n",
    "\n",
    "print(java_team | python_team)"
   ]
  },
  {
   "cell_type": "markdown",
   "metadata": {},
   "source": [
    "2. intersection()\n",
    "* 두 개 이상의 집합에서 공통된 요소만들 포함하는 새로운 집합을 반환(교집합)"
   ]
  },
  {
   "cell_type": "code",
   "execution_count": 16,
   "metadata": {},
   "outputs": [
    {
     "name": "stdout",
     "output_type": "stream",
     "text": [
      "set()\n",
      "set()\n"
     ]
    }
   ],
   "source": [
    "print(java_team.intersection(python_team))\n",
    "print(java_team & python_team)"
   ]
  },
  {
   "cell_type": "markdown",
   "metadata": {},
   "source": [
    "3. difference()\n",
    "* 첫 번째 집합에는 포함되지만 두 번째 집합에는 포함되지 않는 새로운 집합을 반환(차집합)"
   ]
  },
  {
   "cell_type": "code",
   "execution_count": 17,
   "metadata": {},
   "outputs": [
    {
     "name": "stdout",
     "output_type": "stream",
     "text": [
      "{'squirrel', 'bear', 'gorilla', 'tiger'}\n",
      "{'squirrel', 'bear', 'gorilla', 'tiger'}\n"
     ]
    }
   ],
   "source": [
    "print(java_team.difference(python_team))\n",
    "print(java_team - python_team)"
   ]
  },
  {
   "cell_type": "markdown",
   "metadata": {},
   "source": [
    "4. symmetic_difference()\n",
    "* 합집합에서 교집합을 뺀 결과 두 집합 중 어느 한 쪽만 포함된 요소들로 구성된 새로운 집합을 반환\n",
    "\n"
   ]
  },
  {
   "cell_type": "code",
   "execution_count": 19,
   "metadata": {},
   "outputs": [
    {
     "name": "stdout",
     "output_type": "stream",
     "text": [
      "{'bear', 'pigbear', 'squirrel', 'tiger', 'gorilla'}\n"
     ]
    },
    {
     "ename": "TypeError",
     "evalue": "unsupported operand type(s) for *: 'set' and 'set'",
     "output_type": "error",
     "traceback": [
      "\u001b[1;31m---------------------------------------------------------------------------\u001b[0m",
      "\u001b[1;31mTypeError\u001b[0m                                 Traceback (most recent call last)",
      "Cell \u001b[1;32mIn[19], line 2\u001b[0m\n\u001b[0;32m      1\u001b[0m \u001b[38;5;28mprint\u001b[39m(java_team\u001b[38;5;241m.\u001b[39msymmetric_difference(python_team))\n\u001b[1;32m----> 2\u001b[0m \u001b[38;5;28mprint\u001b[39m(\u001b[43mjava_team\u001b[49m\u001b[43m \u001b[49m\u001b[38;5;241;43m*\u001b[39;49m\u001b[43m \u001b[49m\u001b[43mpython_team\u001b[49m)\n",
      "\u001b[1;31mTypeError\u001b[0m: unsupported operand type(s) for *: 'set' and 'set'"
     ]
    }
   ],
   "source": [
    "print(java_team.symmetric_difference(python_team))\n",
    "print(java)"
   ]
  }
 ],
 "metadata": {
  "kernelspec": {
   "display_name": "pylecture_env",
   "language": "python",
   "name": "python3"
  },
  "language_info": {
   "codemirror_mode": {
    "name": "ipython",
    "version": 3
   },
   "file_extension": ".py",
   "mimetype": "text/x-python",
   "name": "python",
   "nbconvert_exporter": "python",
   "pygments_lexer": "ipython3",
   "version": "3.12.7"
  }
 },
 "nbformat": 4,
 "nbformat_minor": 2
}
