{
 "cells": [
  {
   "cell_type": "markdown",
   "metadata": {},
   "source": [
    "[참고] 내장함수\n",
    "내장 함수의 종류는 다양하지만 자주 쓰는 것, 지금까지 썼던 것은 다음과 같은 것이 있다.\n",
    "print() : 콘솔 출력 기능을 하는 함수\n",
    "input() : 콘솔을 통해 사용자 입력을 받아 문자열로 반환하는 함수\n",
    "type() : 인자로 전달된 값의 자료형을 반환하는 함수\n",
    "len() : 인자로 전달된 시퀀스 자료형의 요소의 갯수(길이)를 반환하는 함수\n",
    "int(), float(), str(), list(), dict() : 인자로 전달된 자료형을 특정 자료형으로 형 변환하여 반환하는 함수\n",
    "range() : 전달받은 인자에 따라 일정 범위의 숫자 시퀀스를 생성하여 반환하는 함수\n",
    "min(), max() : 인자로 전달된 시퀀스의 요소 중 가장 크거나 작은 값을 반환하는 함수\n",
    "sum() : 인자로 전달된 시퀀스 내 모든 요소의 합계를 반환하는 함수\n",
    "abs() : 절댓값을 반환하는 함수\n",
    "round() : 인자로 전달된 숫자를 반올림하는 함수\n",
    "map() : 함수와 시퀀스를 인자로 받아, 시퀀스의 각 요소에 함수를 적용한 결과를 반환하는 함수\n",
    "filter() : 함수와 시퀀스를 인자로 받아, 시퀀스에서 함수의 조건을 만족하는 요소만 반환하는 함수\n",
    "pow() : 인자의 첫 번째 숫자를 두 번째 숫자로 거듭 제곱한 값을 반환하는 함수"
   ]
  },
  {
   "cell_type": "markdown",
   "metadata": {},
   "source": []
  },
  {
   "cell_type": "markdown",
   "metadata": {},
   "source": []
  },
  {
   "cell_type": "markdown",
   "metadata": {},
   "source": []
  }
 ],
 "metadata": {
  "language_info": {
   "name": "python"
  }
 },
 "nbformat": 4,
 "nbformat_minor": 2
}
