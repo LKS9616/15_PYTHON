{
 "cells": [
  {
   "cell_type": "code",
   "execution_count": null,
   "metadata": {},
   "outputs": [],
   "source": [
    "# selenium => 웹페이지를 자동으로 탐색할 수 있게 도와주는 라이브러리\n",
    "# webdriver-manager => 브라우저에 맞는 드라이버를 관리할 수 있게 해주는 라이브러리\n",
    "\n",
    "from selenium import webdriver\n",
    "from selenium.webdriver.common.keys import keys\n",
    "from selenium.webdriver.chrome.service import Service\n",
    "from webdriver_manager.chrome import ChromeDriverManager\n",
    "\n",
    "# Chrome 웹드라이버 설정\n",
    "service = Service(ChromeDriverManager().install)\n",
    "driver = webdriver.Chrome(service=service)\n",
    "\n",
    "# Google 홈페이지 열기\n",
    "driver.get(\"https://www.google.com\")"
   ]
  }
 ],
 "metadata": {
  "language_info": {
   "name": "python"
  }
 },
 "nbformat": 4,
 "nbformat_minor": 2
}
